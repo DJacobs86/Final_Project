{
 "cells": [
  {
   "cell_type": "code",
   "execution_count": 7,
   "id": "398ef8f9",
   "metadata": {},
   "outputs": [],
   "source": [
    "import pandas as pd\n",
    "import os\n"
   ]
  },
  {
   "cell_type": "code",
   "execution_count": 17,
   "id": "634ac57c",
   "metadata": {},
   "outputs": [
    {
     "ename": "NameError",
     "evalue": "name 'NPSUnitList' is not defined",
     "output_type": "error",
     "traceback": [
      "\u001b[1;31m---------------------------------------------------------------------------\u001b[0m",
      "\u001b[1;31mNameError\u001b[0m                                 Traceback (most recent call last)",
      "Cell \u001b[1;32mIn[17], line 4\u001b[0m\n\u001b[0;32m      1\u001b[0m \u001b[38;5;66;03m#student_df = os.path.join('./Student_Data_Challenge_Starter_Code/Resources/new_full_student_data.csv')\u001b[39;00m\n\u001b[0;32m      2\u001b[0m \u001b[38;5;66;03m#student_df = pd.read_csv(new_full_student_data)\u001b[39;00m\n\u001b[0;32m      3\u001b[0m df \u001b[38;5;241m=\u001b[39m os\u001b[38;5;241m.\u001b[39mpath\u001b[38;5;241m.\u001b[39mjoin(\u001b[38;5;124m'\u001b[39m\u001b[38;5;124m./Resources/NPSUnitList.csv\u001b[39m\u001b[38;5;124m'\u001b[39m)\n\u001b[1;32m----> 4\u001b[0m df \u001b[38;5;241m=\u001b[39m pd\u001b[38;5;241m.\u001b[39mread_csv(\u001b[43mNPSUnitList\u001b[49m)\n",
      "\u001b[1;31mNameError\u001b[0m: name 'NPSUnitList' is not defined"
     ]
    }
   ],
   "source": [
    "#student_df = os.path.join('./Student_Data_Challenge_Starter_Code/Resources/new_full_student_data.csv')\n",
    "#student_df = pd.read_csv(new_full_student_data)\n",
    "df = os.path.join('./Resources/NPSUnitList.csv')\n",
    "df = pd.read_csv(NPSUnitList)"
   ]
  },
  {
   "cell_type": "code",
   "execution_count": null,
   "id": "7112099a",
   "metadata": {},
   "outputs": [],
   "source": []
  }
 ],
 "metadata": {
  "kernelspec": {
   "display_name": "PythonData",
   "language": "python",
   "name": "pythondata"
  },
  "language_info": {
   "codemirror_mode": {
    "name": "ipython",
    "version": 3
   },
   "file_extension": ".py",
   "mimetype": "text/x-python",
   "name": "python",
   "nbconvert_exporter": "python",
   "pygments_lexer": "ipython3",
   "version": "3.9.15"
  }
 },
 "nbformat": 4,
 "nbformat_minor": 5
}
