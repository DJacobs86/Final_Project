{
 "cells": [
  {
   "cell_type": "code",
   "execution_count": 1,
   "id": "a0711525",
   "metadata": {},
   "outputs": [],
   "source": [
    "import pandas as pd\n",
    "from sklearn.preprocessing import OneHotEncoder,StandardScaler\n",
    "import numpy as np\n",
    "from sklearn.preprocessing import LabelEncoder\n",
    "from keras.wrappers.scikit_learn import KerasClassifier\n",
    "from keras.utils import np_utils\n",
    "import tensorflow as tf\n",
    "\n",
    "\n"
   ]
  },
  {
   "cell_type": "code",
   "execution_count": 3,
   "id": "41c8e81f",
   "metadata": {},
   "outputs": [],
   "source": [
    "parks_df = pd.read_csv(\"./Resources/NPSCamp-Missing States Removed (4-11-23).csv\")"
   ]
  },
  {
   "cell_type": "code",
   "execution_count": 4,
   "id": "bacad461",
   "metadata": {},
   "outputs": [
    {
     "data": {
      "text/html": [
       "<div>\n",
       "<style scoped>\n",
       "    .dataframe tbody tr th:only-of-type {\n",
       "        vertical-align: middle;\n",
       "    }\n",
       "\n",
       "    .dataframe tbody tr th {\n",
       "        vertical-align: top;\n",
       "    }\n",
       "\n",
       "    .dataframe thead th {\n",
       "        text-align: right;\n",
       "    }\n",
       "</style>\n",
       "<table border=\"1\" class=\"dataframe\">\n",
       "  <thead>\n",
       "    <tr style=\"text-align: right;\">\n",
       "      <th></th>\n",
       "      <th>name</th>\n",
       "      <th>parkCode</th>\n",
       "      <th>state</th>\n",
       "      <th>longitude</th>\n",
       "      <th>latitude</th>\n",
       "      <th>totalSites</th>\n",
       "      <th>tentOnly</th>\n",
       "      <th>electricalHookups</th>\n",
       "      <th>showers</th>\n",
       "      <th>dumpStation</th>\n",
       "      <th>host</th>\n",
       "      <th>potableWater</th>\n",
       "      <th>firewoodForSale</th>\n",
       "      <th>reservationUrl</th>\n",
       "    </tr>\n",
       "  </thead>\n",
       "  <tbody>\n",
       "    <tr>\n",
       "      <th>0</th>\n",
       "      <td>Barry's Landing &amp; Trail Creek Campground</td>\n",
       "      <td>bica</td>\n",
       "      <td>WY</td>\n",
       "      <td>-108.225571</td>\n",
       "      <td>45.104413</td>\n",
       "      <td>30</td>\n",
       "      <td>16</td>\n",
       "      <td>0</td>\n",
       "      <td>['None']</td>\n",
       "      <td>No</td>\n",
       "      <td>Yes - seasonal</td>\n",
       "      <td>['No water']</td>\n",
       "      <td>No</td>\n",
       "      <td>http://www.hiddentreasurecharters.com</td>\n",
       "    </tr>\n",
       "    <tr>\n",
       "      <th>1</th>\n",
       "      <td>Belle Fourche River Campground</td>\n",
       "      <td>deto</td>\n",
       "      <td>WY</td>\n",
       "      <td>-104.706344</td>\n",
       "      <td>44.581834</td>\n",
       "      <td>46</td>\n",
       "      <td>3</td>\n",
       "      <td>0</td>\n",
       "      <td>['None']</td>\n",
       "      <td>No</td>\n",
       "      <td>Yes - seasonal</td>\n",
       "      <td>['Yes - seasonal']</td>\n",
       "      <td>No</td>\n",
       "      <td>NaN</td>\n",
       "    </tr>\n",
       "    <tr>\n",
       "      <th>2</th>\n",
       "      <td>Bridge Bay Campground</td>\n",
       "      <td>yell</td>\n",
       "      <td>WY</td>\n",
       "      <td>-110.436924</td>\n",
       "      <td>44.534438</td>\n",
       "      <td>432</td>\n",
       "      <td>0</td>\n",
       "      <td>0</td>\n",
       "      <td>['None']</td>\n",
       "      <td>Yes - seasonal</td>\n",
       "      <td>Yes - seasonal</td>\n",
       "      <td>['Yes - seasonal']</td>\n",
       "      <td>Yes - seasonal</td>\n",
       "      <td>https://secure.yellowstonenationalparklodges.c...</td>\n",
       "    </tr>\n",
       "    <tr>\n",
       "      <th>3</th>\n",
       "      <td>Canyon Campground</td>\n",
       "      <td>yell</td>\n",
       "      <td>WY</td>\n",
       "      <td>-110.487912</td>\n",
       "      <td>44.735384</td>\n",
       "      <td>273</td>\n",
       "      <td>0</td>\n",
       "      <td>0</td>\n",
       "      <td>['Hot - Seasonal']</td>\n",
       "      <td>Yes - seasonal</td>\n",
       "      <td>Yes - seasonal</td>\n",
       "      <td>['Yes - seasonal']</td>\n",
       "      <td>Yes - seasonal</td>\n",
       "      <td>https://secure.yellowstonenationalparklodges.c...</td>\n",
       "    </tr>\n",
       "    <tr>\n",
       "      <th>4</th>\n",
       "      <td>Colter Bay Campground</td>\n",
       "      <td>grte</td>\n",
       "      <td>WY</td>\n",
       "      <td>-110.641379</td>\n",
       "      <td>43.907478</td>\n",
       "      <td>324</td>\n",
       "      <td>0</td>\n",
       "      <td>13</td>\n",
       "      <td>['Coin-Operated - Seasonal']</td>\n",
       "      <td>Yes - seasonal</td>\n",
       "      <td>Yes - seasonal</td>\n",
       "      <td>['Yes - year round']</td>\n",
       "      <td>Yes - seasonal</td>\n",
       "      <td>https://www.recreation.gov/camping/campgrounds...</td>\n",
       "    </tr>\n",
       "  </tbody>\n",
       "</table>\n",
       "</div>"
      ],
      "text/plain": [
       "                                       name parkCode state   longitude  \\\n",
       "0  Barry's Landing & Trail Creek Campground     bica    WY -108.225571   \n",
       "1            Belle Fourche River Campground     deto    WY -104.706344   \n",
       "2                     Bridge Bay Campground     yell    WY -110.436924   \n",
       "3                         Canyon Campground     yell    WY -110.487912   \n",
       "4                     Colter Bay Campground     grte    WY -110.641379   \n",
       "\n",
       "    latitude  totalSites  tentOnly  electricalHookups  \\\n",
       "0  45.104413          30        16                  0   \n",
       "1  44.581834          46         3                  0   \n",
       "2  44.534438         432         0                  0   \n",
       "3  44.735384         273         0                  0   \n",
       "4  43.907478         324         0                 13   \n",
       "\n",
       "                        showers     dumpStation            host  \\\n",
       "0                      ['None']              No  Yes - seasonal   \n",
       "1                      ['None']              No  Yes - seasonal   \n",
       "2                      ['None']  Yes - seasonal  Yes - seasonal   \n",
       "3            ['Hot - Seasonal']  Yes - seasonal  Yes - seasonal   \n",
       "4  ['Coin-Operated - Seasonal']  Yes - seasonal  Yes - seasonal   \n",
       "\n",
       "           potableWater firewoodForSale  \\\n",
       "0          ['No water']              No   \n",
       "1    ['Yes - seasonal']              No   \n",
       "2    ['Yes - seasonal']  Yes - seasonal   \n",
       "3    ['Yes - seasonal']  Yes - seasonal   \n",
       "4  ['Yes - year round']  Yes - seasonal   \n",
       "\n",
       "                                      reservationUrl  \n",
       "0              http://www.hiddentreasurecharters.com  \n",
       "1                                                NaN  \n",
       "2  https://secure.yellowstonenationalparklodges.c...  \n",
       "3  https://secure.yellowstonenationalparklodges.c...  \n",
       "4  https://www.recreation.gov/camping/campgrounds...  "
      ]
     },
     "execution_count": 4,
     "metadata": {},
     "output_type": "execute_result"
    }
   ],
   "source": [
    "parks_df.head()"
   ]
  },
  {
   "cell_type": "code",
   "execution_count": 5,
   "id": "fcde0c9c",
   "metadata": {},
   "outputs": [
    {
     "data": {
      "text/plain": [
       "name                 439\n",
       "parkCode              96\n",
       "state                 34\n",
       "longitude            440\n",
       "latitude             440\n",
       "totalSites           140\n",
       "tentOnly              64\n",
       "electricalHookups     32\n",
       "showers               18\n",
       "dumpStation            3\n",
       "host                   3\n",
       "potableWater           5\n",
       "firewoodForSale        3\n",
       "reservationUrl       224\n",
       "dtype: int64"
      ]
     },
     "execution_count": 5,
     "metadata": {},
     "output_type": "execute_result"
    }
   ],
   "source": [
    "# Determine the number of unique values in each column.\n",
    "parks_df.nunique()"
   ]
  },
  {
   "cell_type": "code",
   "execution_count": 6,
   "id": "f66f2a3a",
   "metadata": {},
   "outputs": [
    {
     "data": {
      "text/plain": [
       "isro    33\n",
       "choh    30\n",
       "laro    21\n",
       "grsm    13\n",
       "glac    13\n",
       "        ..\n",
       "amme     1\n",
       "hove     1\n",
       "deto     1\n",
       "cana     1\n",
       "meve     1\n",
       "Name: parkCode, Length: 96, dtype: int64"
      ]
     },
     "execution_count": 6,
     "metadata": {},
     "output_type": "execute_result"
    }
   ],
   "source": [
    "# get the count of each unique value of park code\n",
    "codeCounts =  parks_df.parkCode.value_counts()\n",
    "codeCounts"
   ]
  },
  {
   "cell_type": "code",
   "execution_count": 7,
   "id": "9e49f46b",
   "metadata": {},
   "outputs": [
    {
     "data": {
      "text/plain": [
       "<Axes: ylabel='Density'>"
      ]
     },
     "execution_count": 7,
     "metadata": {},
     "output_type": "execute_result"
    },
    {
     "data": {
      "image/png": "[encoded data removed]",
      "text/plain": [
       "<Figure size 640x480 with 1 Axes>"
      ]
     },
     "metadata": {},
     "output_type": "display_data"
    }
   ],
   "source": [
    "parks_df.parkCode.value_counts().plot.density()"
   ]
  },
  {
   "cell_type": "code",
   "execution_count": 8,
   "id": "e273e40b",
   "metadata": {},
   "outputs": [
    {
     "data": {
      "text/plain": [
       "Other    279\n",
       "isro      33\n",
       "choh      30\n",
       "laro      21\n",
       "grsm      13\n",
       "glac      13\n",
       "seki      13\n",
       "yell      12\n",
       "olym      11\n",
       "deva      10\n",
       "buff      10\n",
       "Name: parkCode, dtype: int64"
      ]
     },
     "execution_count": 8,
     "metadata": {},
     "output_type": "execute_result"
    }
   ],
   "source": [
    "replaceCodes = list(codeCounts[codeCounts < 10].index)\n",
    "\n",
    "for cd in replaceCodes:\n",
    "    parks_df.parkCode = parks_df.parkCode.replace(cd,\"Other\")\n",
    "    \n",
    "parks_df.parkCode.value_counts()"
   ]
  },
  {
   "cell_type": "code",
   "execution_count": 9,
   "id": "9f8399aa",
   "metadata": {},
   "outputs": [
    {
     "data": {
      "text/plain": [
       "['None']                                                   343\n",
       "[]                                                          21\n",
       "['Hot - Seasonal']                                          17\n",
       "['Hot - Year Round']                                        14\n",
       "['Coin-Operated - Seasonal']                                11\n",
       "['Cold- Seasonal', 'Free - Seasonal']                        9\n",
       "['Hot - Year Round', 'Free - Year Round']                    7\n",
       "['Hot - Seasonal', 'Coin-Operated - Seasonal']               5\n",
       "['Hot - Seasonal', 'Free - Seasonal']                        4\n",
       "['Free - Seasonal', 'Hot - Year Round']                      3\n",
       "['Cold - Year Round', 'Free - Year Round']                   2\n",
       "['Hot - Year Round', 'Coin-Operated - Year Round']           2\n",
       "['Free - Year Round', 'Hot - Year Round']                    2\n",
       "['Coin-Operated - Seasonal', 'None']                         1\n",
       "['None', 'Free - Seasonal']                                  1\n",
       "['Hot - Seasonal', 'Cold- Seasonal', 'Free - Seasonal']      1\n",
       "['Coin-Operated - Year Round']                               1\n",
       "['Free - Year Round']                                        1\n",
       "Name: showers, dtype: int64"
      ]
     },
     "execution_count": 9,
     "metadata": {},
     "output_type": "execute_result"
    }
   ],
   "source": [
    "# get the count of each unique value of showers\n",
    "showerCounts = parks_df.showers.value_counts()\n",
    "showerCounts"
   ]
  },
  {
   "cell_type": "code",
   "execution_count": 10,
   "id": "e0b988a2",
   "metadata": {},
   "outputs": [
    {
     "data": {
      "text/plain": [
       "<Axes: ylabel='Density'>"
      ]
     },
     "execution_count": 10,
     "metadata": {},
     "output_type": "execute_result"
    },
    {
     "data": {
      "image/png": "[encoded data removed]",
      "text/plain": [
       "<Figure size 640x480 with 1 Axes>"
      ]
     },
     "metadata": {},
     "output_type": "display_data"
    }
   ],
   "source": [
    "parks_df.showers.value_counts().plot.density()"
   ]
  },
  {
   "cell_type": "code",
   "execution_count": 11,
   "id": "40aa6a40",
   "metadata": {},
   "outputs": [
    {
     "data": {
      "text/plain": [
       "['None']                        343\n",
       "Other                            39\n",
       "[]                               21\n",
       "['Hot - Seasonal']               17\n",
       "['Hot - Year Round']             14\n",
       "['Coin-Operated - Seasonal']     11\n",
       "Name: showers, dtype: int64"
      ]
     },
     "execution_count": 11,
     "metadata": {},
     "output_type": "execute_result"
    }
   ],
   "source": [
    "replaceShowers = list(showerCounts[showerCounts < 10].index)\n",
    "\n",
    "for shwr in replaceShowers:\n",
    "    parks_df.showers = parks_df.showers.replace(shwr,\"Other\")\n",
    "    \n",
    "parks_df.showers.value_counts()"
   ]
  },
  {
   "cell_type": "code",
   "execution_count": 12,
   "id": "8be0ca49",
   "metadata": {},
   "outputs": [
    {
     "data": {
      "text/plain": [
       "CA    70\n",
       "MD    45\n",
       "WA    39\n",
       "MI    39\n",
       "WY    24\n",
       "AZ    19\n",
       "UT    18\n",
       "VA    17\n",
       "CO    15\n",
       "FL    15\n",
       "MT    15\n",
       "NC    14\n",
       "TN    13\n",
       "AK    12\n",
       "AR    11\n",
       "TX    10\n",
       "WV     9\n",
       "ME     9\n",
       "KY     6\n",
       "MO     6\n",
       "NV     6\n",
       "MN     4\n",
       "HI     4\n",
       "ID     3\n",
       "SD     3\n",
       "OR     3\n",
       "MS     3\n",
       "NM     3\n",
       "IN     2\n",
       "PA     2\n",
       "NJ     2\n",
       "NE     2\n",
       "NI     1\n",
       "MP     1\n",
       "Name: state, dtype: int64"
      ]
     },
     "execution_count": 12,
     "metadata": {},
     "output_type": "execute_result"
    }
   ],
   "source": [
    "stateCounts = parks_df.state.value_counts()\n",
    "stateCounts"
   ]
  },
  {
   "cell_type": "code",
   "execution_count": 13,
   "id": "5334966a",
   "metadata": {},
   "outputs": [
    {
     "data": {
      "text/plain": [
       "<Axes: ylabel='Density'>"
      ]
     },
     "execution_count": 13,
     "metadata": {},
     "output_type": "execute_result"
    },
    {
     "data": {
      "image/png": "[encoded data removed]",
      "text/plain": [
       "<Figure size 640x480 with 1 Axes>"
      ]
     },
     "metadata": {},
     "output_type": "display_data"
    }
   ],
   "source": [
    "parks_df.state.value_counts().plot.density()"
   ]
  },
  {
   "cell_type": "code",
   "execution_count": 14,
   "id": "ef22b505",
   "metadata": {},
   "outputs": [
    {
     "data": {
      "text/plain": [
       "CA       70\n",
       "Other    69\n",
       "MD       45\n",
       "WA       39\n",
       "MI       39\n",
       "WY       24\n",
       "AZ       19\n",
       "UT       18\n",
       "VA       17\n",
       "FL       15\n",
       "CO       15\n",
       "MT       15\n",
       "NC       14\n",
       "TN       13\n",
       "AK       12\n",
       "AR       11\n",
       "TX       10\n",
       "Name: state, dtype: int64"
      ]
     },
     "execution_count": 14,
     "metadata": {},
     "output_type": "execute_result"
    }
   ],
   "source": [
    "replaceStates = list(stateCounts[stateCounts < 10].index)\n",
    "\n",
    "for st in replaceStates:\n",
    "    parks_df.state = parks_df.state.replace(st,\"Other\")\n",
    "    \n",
    "parks_df.state.value_counts()"
   ]
  },
  {
   "cell_type": "code",
   "execution_count": 15,
   "id": "984b7b48",
   "metadata": {},
   "outputs": [
    {
     "data": {
      "text/plain": [
       "name                  object\n",
       "parkCode              object\n",
       "state                 object\n",
       "longitude            float64\n",
       "latitude             float64\n",
       "totalSites             int64\n",
       "tentOnly               int64\n",
       "electricalHookups      int64\n",
       "showers               object\n",
       "dumpStation           object\n",
       "host                  object\n",
       "potableWater          object\n",
       "firewoodForSale       object\n",
       "reservationUrl        object\n",
       "dtype: object"
      ]
     },
     "execution_count": 15,
     "metadata": {},
     "output_type": "execute_result"
    }
   ],
   "source": [
    "parks_df.dtypes"
   ]
  },
  {
   "cell_type": "code",
   "execution_count": 16,
   "id": "4f027764",
   "metadata": {},
   "outputs": [
    {
     "name": "stderr",
     "output_type": "stream",
     "text": [
      "C:\\Users\\razza\\anaconda3\\lib\\site-packages\\sklearn\\preprocessing\\_encoders.py:868: FutureWarning: `sparse` was renamed to `sparse_output` in version 1.2 and will be removed in 1.4. `sparse_output` is ignored unless you leave `sparse` to its default value.\n",
      "  warnings.warn(\n"
     ]
    },
    {
     "data": {
      "text/html": [
       "<div>\n",
       "<style scoped>\n",
       "    .dataframe tbody tr th:only-of-type {\n",
       "        vertical-align: middle;\n",
       "    }\n",
       "\n",
       "    .dataframe tbody tr th {\n",
       "        vertical-align: top;\n",
       "    }\n",
       "\n",
       "    .dataframe thead th {\n",
       "        text-align: right;\n",
       "    }\n",
       "</style>\n",
       "<table border=\"1\" class=\"dataframe\">\n",
       "  <thead>\n",
       "    <tr style=\"text-align: right;\">\n",
       "      <th></th>\n",
       "      <th>parkCode_Other</th>\n",
       "      <th>parkCode_buff</th>\n",
       "      <th>parkCode_choh</th>\n",
       "      <th>parkCode_deva</th>\n",
       "      <th>parkCode_glac</th>\n",
       "      <th>parkCode_grsm</th>\n",
       "      <th>parkCode_isro</th>\n",
       "      <th>parkCode_laro</th>\n",
       "      <th>parkCode_olym</th>\n",
       "      <th>parkCode_seki</th>\n",
       "      <th>...</th>\n",
       "      <th>host_nan</th>\n",
       "      <th>potableWater_['No water']</th>\n",
       "      <th>potableWater_['Water', ' but not potable']</th>\n",
       "      <th>potableWater_['Yes - seasonal']</th>\n",
       "      <th>potableWater_['Yes - year round']</th>\n",
       "      <th>potableWater_[]</th>\n",
       "      <th>firewoodForSale_No</th>\n",
       "      <th>firewoodForSale_Yes - seasonal</th>\n",
       "      <th>firewoodForSale_Yes - year round</th>\n",
       "      <th>firewoodForSale_nan</th>\n",
       "    </tr>\n",
       "  </thead>\n",
       "  <tbody>\n",
       "    <tr>\n",
       "      <th>0</th>\n",
       "      <td>1.0</td>\n",
       "      <td>0.0</td>\n",
       "      <td>0.0</td>\n",
       "      <td>0.0</td>\n",
       "      <td>0.0</td>\n",
       "      <td>0.0</td>\n",
       "      <td>0.0</td>\n",
       "      <td>0.0</td>\n",
       "      <td>0.0</td>\n",
       "      <td>0.0</td>\n",
       "      <td>...</td>\n",
       "      <td>0.0</td>\n",
       "      <td>1.0</td>\n",
       "      <td>0.0</td>\n",
       "      <td>0.0</td>\n",
       "      <td>0.0</td>\n",
       "      <td>0.0</td>\n",
       "      <td>1.0</td>\n",
       "      <td>0.0</td>\n",
       "      <td>0.0</td>\n",
       "      <td>0.0</td>\n",
       "    </tr>\n",
       "    <tr>\n",
       "      <th>1</th>\n",
       "      <td>1.0</td>\n",
       "      <td>0.0</td>\n",
       "      <td>0.0</td>\n",
       "      <td>0.0</td>\n",
       "      <td>0.0</td>\n",
       "      <td>0.0</td>\n",
       "      <td>0.0</td>\n",
       "      <td>0.0</td>\n",
       "      <td>0.0</td>\n",
       "      <td>0.0</td>\n",
       "      <td>...</td>\n",
       "      <td>0.0</td>\n",
       "      <td>0.0</td>\n",
       "      <td>0.0</td>\n",
       "      <td>1.0</td>\n",
       "      <td>0.0</td>\n",
       "      <td>0.0</td>\n",
       "      <td>1.0</td>\n",
       "      <td>0.0</td>\n",
       "      <td>0.0</td>\n",
       "      <td>0.0</td>\n",
       "    </tr>\n",
       "    <tr>\n",
       "      <th>2</th>\n",
       "      <td>0.0</td>\n",
       "      <td>0.0</td>\n",
       "      <td>0.0</td>\n",
       "      <td>0.0</td>\n",
       "      <td>0.0</td>\n",
       "      <td>0.0</td>\n",
       "      <td>0.0</td>\n",
       "      <td>0.0</td>\n",
       "      <td>0.0</td>\n",
       "      <td>0.0</td>\n",
       "      <td>...</td>\n",
       "      <td>0.0</td>\n",
       "      <td>0.0</td>\n",
       "      <td>0.0</td>\n",
       "      <td>1.0</td>\n",
       "      <td>0.0</td>\n",
       "      <td>0.0</td>\n",
       "      <td>0.0</td>\n",
       "      <td>1.0</td>\n",
       "      <td>0.0</td>\n",
       "      <td>0.0</td>\n",
       "    </tr>\n",
       "    <tr>\n",
       "      <th>3</th>\n",
       "      <td>0.0</td>\n",
       "      <td>0.0</td>\n",
       "      <td>0.0</td>\n",
       "      <td>0.0</td>\n",
       "      <td>0.0</td>\n",
       "      <td>0.0</td>\n",
       "      <td>0.0</td>\n",
       "      <td>0.0</td>\n",
       "      <td>0.0</td>\n",
       "      <td>0.0</td>\n",
       "      <td>...</td>\n",
       "      <td>0.0</td>\n",
       "      <td>0.0</td>\n",
       "      <td>0.0</td>\n",
       "      <td>1.0</td>\n",
       "      <td>0.0</td>\n",
       "      <td>0.0</td>\n",
       "      <td>0.0</td>\n",
       "      <td>1.0</td>\n",
       "      <td>0.0</td>\n",
       "      <td>0.0</td>\n",
       "    </tr>\n",
       "    <tr>\n",
       "      <th>4</th>\n",
       "      <td>1.0</td>\n",
       "      <td>0.0</td>\n",
       "      <td>0.0</td>\n",
       "      <td>0.0</td>\n",
       "      <td>0.0</td>\n",
       "      <td>0.0</td>\n",
       "      <td>0.0</td>\n",
       "      <td>0.0</td>\n",
       "      <td>0.0</td>\n",
       "      <td>0.0</td>\n",
       "      <td>...</td>\n",
       "      <td>0.0</td>\n",
       "      <td>0.0</td>\n",
       "      <td>0.0</td>\n",
       "      <td>0.0</td>\n",
       "      <td>1.0</td>\n",
       "      <td>0.0</td>\n",
       "      <td>0.0</td>\n",
       "      <td>1.0</td>\n",
       "      <td>0.0</td>\n",
       "      <td>0.0</td>\n",
       "    </tr>\n",
       "  </tbody>\n",
       "</table>\n",
       "<p>5 rows × 51 columns</p>\n",
       "</div>"
      ],
      "text/plain": [
       "   parkCode_Other  parkCode_buff  parkCode_choh  parkCode_deva  parkCode_glac  \\\n",
       "0             1.0            0.0            0.0            0.0            0.0   \n",
       "1             1.0            0.0            0.0            0.0            0.0   \n",
       "2             0.0            0.0            0.0            0.0            0.0   \n",
       "3             0.0            0.0            0.0            0.0            0.0   \n",
       "4             1.0            0.0            0.0            0.0            0.0   \n",
       "\n",
       "   parkCode_grsm  parkCode_isro  parkCode_laro  parkCode_olym  parkCode_seki  \\\n",
       "0            0.0            0.0            0.0            0.0            0.0   \n",
       "1            0.0            0.0            0.0            0.0            0.0   \n",
       "2            0.0            0.0            0.0            0.0            0.0   \n",
       "3            0.0            0.0            0.0            0.0            0.0   \n",
       "4            0.0            0.0            0.0            0.0            0.0   \n",
       "\n",
       "   ...  host_nan  potableWater_['No water']  \\\n",
       "0  ...       0.0                        1.0   \n",
       "1  ...       0.0                        0.0   \n",
       "2  ...       0.0                        0.0   \n",
       "3  ...       0.0                        0.0   \n",
       "4  ...       0.0                        0.0   \n",
       "\n",
       "   potableWater_['Water', ' but not potable']  \\\n",
       "0                                         0.0   \n",
       "1                                         0.0   \n",
       "2                                         0.0   \n",
       "3                                         0.0   \n",
       "4                                         0.0   \n",
       "\n",
       "   potableWater_['Yes - seasonal']  potableWater_['Yes - year round']  \\\n",
       "0                              0.0                                0.0   \n",
       "1                              1.0                                0.0   \n",
       "2                              1.0                                0.0   \n",
       "3                              1.0                                0.0   \n",
       "4                              0.0                                1.0   \n",
       "\n",
       "   potableWater_[]  firewoodForSale_No  firewoodForSale_Yes - seasonal  \\\n",
       "0              0.0                 1.0                             0.0   \n",
       "1              0.0                 1.0                             0.0   \n",
       "2              0.0                 0.0                             1.0   \n",
       "3              0.0                 0.0                             1.0   \n",
       "4              0.0                 0.0                             1.0   \n",
       "\n",
       "   firewoodForSale_Yes - year round  firewoodForSale_nan  \n",
       "0                               0.0                  0.0  \n",
       "1                               0.0                  0.0  \n",
       "2                               0.0                  0.0  \n",
       "3                               0.0                  0.0  \n",
       "4                               0.0                  0.0  \n",
       "\n",
       "[5 rows x 51 columns]"
      ]
     },
     "execution_count": 16,
     "metadata": {},
     "output_type": "execute_result"
    }
   ],
   "source": [
    "# Generate our categorical variable lists\n",
    "cat_list = ['parkCode',\n",
    "            'state',\n",
    "            'showers',\n",
    "            'dumpStation',\n",
    "            'host',\n",
    "            'potableWater',\n",
    "            'firewoodForSale']\n",
    "\n",
    "# Create a OneHotEncoder instance\n",
    "\n",
    "enc2 = OneHotEncoder(sparse=False)\n",
    "\n",
    "# Fit and transform the OneHotEncoder using the categorical variable list\n",
    "park_encode_df = pd.DataFrame(enc2.fit_transform(parks_df[cat_list]))\n",
    "\n",
    "# Add the encoded variable names to the dataframe\n",
    "park_encode_df.columns = enc2.get_feature_names_out(cat_list)\n",
    "park_encode_df.head()"
   ]
  },
  {
   "cell_type": "code",
   "execution_count": 17,
   "id": "62e61000",
   "metadata": {},
   "outputs": [
    {
     "name": "stderr",
     "output_type": "stream",
     "text": [
      "C:\\Users\\razza\\AppData\\Local\\Temp\\ipykernel_14264\\933983455.py:2: FutureWarning: In a future version of pandas all arguments of DataFrame.drop except for the argument 'labels' will be keyword-only.\n",
      "  parks_df = parks_df.merge(park_encode_df,left_index=True,right_index=True).drop(cat_list,1)\n"
     ]
    },
    {
     "data": {
      "text/html": [
       "<div>\n",
       "<style scoped>\n",
       "    .dataframe tbody tr th:only-of-type {\n",
       "        vertical-align: middle;\n",
       "    }\n",
       "\n",
       "    .dataframe tbody tr th {\n",
       "        vertical-align: top;\n",
       "    }\n",
       "\n",
       "    .dataframe thead th {\n",
       "        text-align: right;\n",
       "    }\n",
       "</style>\n",
       "<table border=\"1\" class=\"dataframe\">\n",
       "  <thead>\n",
       "    <tr style=\"text-align: right;\">\n",
       "      <th></th>\n",
       "      <th>longitude</th>\n",
       "      <th>latitude</th>\n",
       "      <th>totalSites</th>\n",
       "      <th>tentOnly</th>\n",
       "      <th>electricalHookups</th>\n",
       "      <th>state_AK</th>\n",
       "      <th>state_AR</th>\n",
       "      <th>state_AZ</th>\n",
       "      <th>state_CA</th>\n",
       "      <th>state_CO</th>\n",
       "      <th>...</th>\n",
       "      <th>host_nan</th>\n",
       "      <th>potableWater_['No water']</th>\n",
       "      <th>potableWater_['Water', ' but not potable']</th>\n",
       "      <th>potableWater_['Yes - seasonal']</th>\n",
       "      <th>potableWater_['Yes - year round']</th>\n",
       "      <th>potableWater_[]</th>\n",
       "      <th>firewoodForSale_No</th>\n",
       "      <th>firewoodForSale_Yes - seasonal</th>\n",
       "      <th>firewoodForSale_Yes - year round</th>\n",
       "      <th>firewoodForSale_nan</th>\n",
       "    </tr>\n",
       "  </thead>\n",
       "  <tbody>\n",
       "    <tr>\n",
       "      <th>0</th>\n",
       "      <td>-108.225571</td>\n",
       "      <td>45.104413</td>\n",
       "      <td>30</td>\n",
       "      <td>16</td>\n",
       "      <td>0</td>\n",
       "      <td>0.0</td>\n",
       "      <td>0.0</td>\n",
       "      <td>0.0</td>\n",
       "      <td>0.0</td>\n",
       "      <td>0.0</td>\n",
       "      <td>...</td>\n",
       "      <td>0.0</td>\n",
       "      <td>1.0</td>\n",
       "      <td>0.0</td>\n",
       "      <td>0.0</td>\n",
       "      <td>0.0</td>\n",
       "      <td>0.0</td>\n",
       "      <td>1.0</td>\n",
       "      <td>0.0</td>\n",
       "      <td>0.0</td>\n",
       "      <td>0.0</td>\n",
       "    </tr>\n",
       "    <tr>\n",
       "      <th>1</th>\n",
       "      <td>-104.706344</td>\n",
       "      <td>44.581834</td>\n",
       "      <td>46</td>\n",
       "      <td>3</td>\n",
       "      <td>0</td>\n",
       "      <td>0.0</td>\n",
       "      <td>0.0</td>\n",
       "      <td>0.0</td>\n",
       "      <td>0.0</td>\n",
       "      <td>0.0</td>\n",
       "      <td>...</td>\n",
       "      <td>0.0</td>\n",
       "      <td>0.0</td>\n",
       "      <td>0.0</td>\n",
       "      <td>1.0</td>\n",
       "      <td>0.0</td>\n",
       "      <td>0.0</td>\n",
       "      <td>1.0</td>\n",
       "      <td>0.0</td>\n",
       "      <td>0.0</td>\n",
       "      <td>0.0</td>\n",
       "    </tr>\n",
       "    <tr>\n",
       "      <th>2</th>\n",
       "      <td>-110.436924</td>\n",
       "      <td>44.534438</td>\n",
       "      <td>432</td>\n",
       "      <td>0</td>\n",
       "      <td>0</td>\n",
       "      <td>0.0</td>\n",
       "      <td>0.0</td>\n",
       "      <td>0.0</td>\n",
       "      <td>0.0</td>\n",
       "      <td>0.0</td>\n",
       "      <td>...</td>\n",
       "      <td>0.0</td>\n",
       "      <td>0.0</td>\n",
       "      <td>0.0</td>\n",
       "      <td>1.0</td>\n",
       "      <td>0.0</td>\n",
       "      <td>0.0</td>\n",
       "      <td>0.0</td>\n",
       "      <td>1.0</td>\n",
       "      <td>0.0</td>\n",
       "      <td>0.0</td>\n",
       "    </tr>\n",
       "    <tr>\n",
       "      <th>3</th>\n",
       "      <td>-110.487912</td>\n",
       "      <td>44.735384</td>\n",
       "      <td>273</td>\n",
       "      <td>0</td>\n",
       "      <td>0</td>\n",
       "      <td>0.0</td>\n",
       "      <td>0.0</td>\n",
       "      <td>0.0</td>\n",
       "      <td>0.0</td>\n",
       "      <td>0.0</td>\n",
       "      <td>...</td>\n",
       "      <td>0.0</td>\n",
       "      <td>0.0</td>\n",
       "      <td>0.0</td>\n",
       "      <td>1.0</td>\n",
       "      <td>0.0</td>\n",
       "      <td>0.0</td>\n",
       "      <td>0.0</td>\n",
       "      <td>1.0</td>\n",
       "      <td>0.0</td>\n",
       "      <td>0.0</td>\n",
       "    </tr>\n",
       "    <tr>\n",
       "      <th>4</th>\n",
       "      <td>-110.641379</td>\n",
       "      <td>43.907478</td>\n",
       "      <td>324</td>\n",
       "      <td>0</td>\n",
       "      <td>13</td>\n",
       "      <td>0.0</td>\n",
       "      <td>0.0</td>\n",
       "      <td>0.0</td>\n",
       "      <td>0.0</td>\n",
       "      <td>0.0</td>\n",
       "      <td>...</td>\n",
       "      <td>0.0</td>\n",
       "      <td>0.0</td>\n",
       "      <td>0.0</td>\n",
       "      <td>0.0</td>\n",
       "      <td>1.0</td>\n",
       "      <td>0.0</td>\n",
       "      <td>0.0</td>\n",
       "      <td>1.0</td>\n",
       "      <td>0.0</td>\n",
       "      <td>0.0</td>\n",
       "    </tr>\n",
       "  </tbody>\n",
       "</table>\n",
       "<p>5 rows × 45 columns</p>\n",
       "</div>"
      ],
      "text/plain": [
       "    longitude   latitude  totalSites  tentOnly  electricalHookups  state_AK  \\\n",
       "0 -108.225571  45.104413          30        16                  0       0.0   \n",
       "1 -104.706344  44.581834          46         3                  0       0.0   \n",
       "2 -110.436924  44.534438         432         0                  0       0.0   \n",
       "3 -110.487912  44.735384         273         0                  0       0.0   \n",
       "4 -110.641379  43.907478         324         0                 13       0.0   \n",
       "\n",
       "   state_AR  state_AZ  state_CA  state_CO  ...  host_nan  \\\n",
       "0       0.0       0.0       0.0       0.0  ...       0.0   \n",
       "1       0.0       0.0       0.0       0.0  ...       0.0   \n",
       "2       0.0       0.0       0.0       0.0  ...       0.0   \n",
       "3       0.0       0.0       0.0       0.0  ...       0.0   \n",
       "4       0.0       0.0       0.0       0.0  ...       0.0   \n",
       "\n",
       "   potableWater_['No water']  potableWater_['Water', ' but not potable']  \\\n",
       "0                        1.0                                         0.0   \n",
       "1                        0.0                                         0.0   \n",
       "2                        0.0                                         0.0   \n",
       "3                        0.0                                         0.0   \n",
       "4                        0.0                                         0.0   \n",
       "\n",
       "   potableWater_['Yes - seasonal']  potableWater_['Yes - year round']  \\\n",
       "0                              0.0                                0.0   \n",
       "1                              1.0                                0.0   \n",
       "2                              1.0                                0.0   \n",
       "3                              1.0                                0.0   \n",
       "4                              0.0                                1.0   \n",
       "\n",
       "   potableWater_[]  firewoodForSale_No  firewoodForSale_Yes - seasonal  \\\n",
       "0              0.0                 1.0                             0.0   \n",
       "1              0.0                 1.0                             0.0   \n",
       "2              0.0                 0.0                             1.0   \n",
       "3              0.0                 0.0                             1.0   \n",
       "4              0.0                 0.0                             1.0   \n",
       "\n",
       "   firewoodForSale_Yes - year round  firewoodForSale_nan  \n",
       "0                               0.0                  0.0  \n",
       "1                               0.0                  0.0  \n",
       "2                               0.0                  0.0  \n",
       "3                               0.0                  0.0  \n",
       "4                               0.0                  0.0  \n",
       "\n",
       "[5 rows x 45 columns]"
      ]
     },
     "execution_count": 17,
     "metadata": {},
     "output_type": "execute_result"
    }
   ],
   "source": [
    "# Merge one-hot encoded features and drop the originals along with the outcome variable and unneeded variables\n",
    "parks_df = parks_df.merge(park_encode_df,left_index=True,right_index=True).drop(cat_list,1)\n",
    "Y = ['parkCode_Other', \n",
    "             'parkCode_buff', \n",
    "             'parkCode_choh', \n",
    "             'parkCode_deva', \n",
    "             'parkCode_glac', \n",
    "             'parkCode_grsm', \n",
    "             'parkCode_isro',\n",
    "            'parkCode_laro',\n",
    "            'parkCode_olym',\n",
    "            'parkCode_seki', 'parkCode_yell']\n",
    "parks_df.drop(['name', 'reservationUrl'], axis=1, inplace=True)\n",
    "y= parks_df[Y]\n",
    "parks_df.drop(Y, axis=1, inplace=True)\n",
    "X = parks_df\n",
    "X.head()\n"
   ]
  },
  {
   "cell_type": "code",
   "execution_count": 18,
   "id": "c8e9bfa8",
   "metadata": {},
   "outputs": [
    {
     "data": {
      "text/html": [
       "<div>\n",
       "<style scoped>\n",
       "    .dataframe tbody tr th:only-of-type {\n",
       "        vertical-align: middle;\n",
       "    }\n",
       "\n",
       "    .dataframe tbody tr th {\n",
       "        vertical-align: top;\n",
       "    }\n",
       "\n",
       "    .dataframe thead th {\n",
       "        text-align: right;\n",
       "    }\n",
       "</style>\n",
       "<table border=\"1\" class=\"dataframe\">\n",
       "  <thead>\n",
       "    <tr style=\"text-align: right;\">\n",
       "      <th></th>\n",
       "      <th>parkCode_Other</th>\n",
       "      <th>parkCode_buff</th>\n",
       "      <th>parkCode_choh</th>\n",
       "      <th>parkCode_deva</th>\n",
       "      <th>parkCode_glac</th>\n",
       "      <th>parkCode_grsm</th>\n",
       "      <th>parkCode_isro</th>\n",
       "      <th>parkCode_laro</th>\n",
       "      <th>parkCode_olym</th>\n",
       "      <th>parkCode_seki</th>\n",
       "      <th>parkCode_yell</th>\n",
       "    </tr>\n",
       "  </thead>\n",
       "  <tbody>\n",
       "    <tr>\n",
       "      <th>0</th>\n",
       "      <td>1.0</td>\n",
       "      <td>0.0</td>\n",
       "      <td>0.0</td>\n",
       "      <td>0.0</td>\n",
       "      <td>0.0</td>\n",
       "      <td>0.0</td>\n",
       "      <td>0.0</td>\n",
       "      <td>0.0</td>\n",
       "      <td>0.0</td>\n",
       "      <td>0.0</td>\n",
       "      <td>0.0</td>\n",
       "    </tr>\n",
       "    <tr>\n",
       "      <th>1</th>\n",
       "      <td>1.0</td>\n",
       "      <td>0.0</td>\n",
       "      <td>0.0</td>\n",
       "      <td>0.0</td>\n",
       "      <td>0.0</td>\n",
       "      <td>0.0</td>\n",
       "      <td>0.0</td>\n",
       "      <td>0.0</td>\n",
       "      <td>0.0</td>\n",
       "      <td>0.0</td>\n",
       "      <td>0.0</td>\n",
       "    </tr>\n",
       "    <tr>\n",
       "      <th>2</th>\n",
       "      <td>0.0</td>\n",
       "      <td>0.0</td>\n",
       "      <td>0.0</td>\n",
       "      <td>0.0</td>\n",
       "      <td>0.0</td>\n",
       "      <td>0.0</td>\n",
       "      <td>0.0</td>\n",
       "      <td>0.0</td>\n",
       "      <td>0.0</td>\n",
       "      <td>0.0</td>\n",
       "      <td>1.0</td>\n",
       "    </tr>\n",
       "    <tr>\n",
       "      <th>3</th>\n",
       "      <td>0.0</td>\n",
       "      <td>0.0</td>\n",
       "      <td>0.0</td>\n",
       "      <td>0.0</td>\n",
       "      <td>0.0</td>\n",
       "      <td>0.0</td>\n",
       "      <td>0.0</td>\n",
       "      <td>0.0</td>\n",
       "      <td>0.0</td>\n",
       "      <td>0.0</td>\n",
       "      <td>1.0</td>\n",
       "    </tr>\n",
       "    <tr>\n",
       "      <th>4</th>\n",
       "      <td>1.0</td>\n",
       "      <td>0.0</td>\n",
       "      <td>0.0</td>\n",
       "      <td>0.0</td>\n",
       "      <td>0.0</td>\n",
       "      <td>0.0</td>\n",
       "      <td>0.0</td>\n",
       "      <td>0.0</td>\n",
       "      <td>0.0</td>\n",
       "      <td>0.0</td>\n",
       "      <td>0.0</td>\n",
       "    </tr>\n",
       "  </tbody>\n",
       "</table>\n",
       "</div>"
      ],
      "text/plain": [
       "   parkCode_Other  parkCode_buff  parkCode_choh  parkCode_deva  parkCode_glac  \\\n",
       "0             1.0            0.0            0.0            0.0            0.0   \n",
       "1             1.0            0.0            0.0            0.0            0.0   \n",
       "2             0.0            0.0            0.0            0.0            0.0   \n",
       "3             0.0            0.0            0.0            0.0            0.0   \n",
       "4             1.0            0.0            0.0            0.0            0.0   \n",
       "\n",
       "   parkCode_grsm  parkCode_isro  parkCode_laro  parkCode_olym  parkCode_seki  \\\n",
       "0            0.0            0.0            0.0            0.0            0.0   \n",
       "1            0.0            0.0            0.0            0.0            0.0   \n",
       "2            0.0            0.0            0.0            0.0            0.0   \n",
       "3            0.0            0.0            0.0            0.0            0.0   \n",
       "4            0.0            0.0            0.0            0.0            0.0   \n",
       "\n",
       "   parkCode_yell  \n",
       "0            0.0  \n",
       "1            0.0  \n",
       "2            1.0  \n",
       "3            1.0  \n",
       "4            0.0  "
      ]
     },
     "execution_count": 18,
     "metadata": {},
     "output_type": "execute_result"
    }
   ],
   "source": [
    "#these are the target variables\n",
    "y.head()"
   ]
  },
  {
   "cell_type": "code",
   "execution_count": 19,
   "id": "d796216c",
   "metadata": {},
   "outputs": [],
   "source": [
    "# Split the preprocessed data into a training and testing dataset\n",
    "from sklearn.model_selection import train_test_split\n",
    "X_train, X_test, y_train, y_test = train_test_split(X, y['parkCode_choh'], random_state=78)"
   ]
  },
  {
   "cell_type": "code",
   "execution_count": 30,
   "id": "9d6bd4ec",
   "metadata": {},
   "outputs": [],
   "source": [
    "# Create a StandardScaler instances\n",
    "scaler = StandardScaler()\n",
    "\n",
    "# Fit the StandardScaler\n",
    "X_scaler = scaler.fit(X_train)\n",
    "\n",
    "# Scale the data\n",
    "X_train_scaled = X_scaler.transform(X_train)\n",
    "X_test_scaled = X_scaler.transform(X_test)"
   ]
  },
  {
   "cell_type": "code",
   "execution_count": 31,
   "id": "ea10c31f",
   "metadata": {},
   "outputs": [
    {
     "name": "stdout",
     "output_type": "stream",
     "text": [
      "Model: \"sequential_1\"\n",
      "_________________________________________________________________\n",
      " Layer (type)                Output Shape              Param #   \n",
      "=================================================================\n",
      " dense_3 (Dense)             (None, 80)                3680      \n",
      "                                                                 \n",
      " dense_4 (Dense)             (None, 30)                2430      \n",
      "                                                                 \n",
      " dense_5 (Dense)             (None, 1)                 31        \n",
      "                                                                 \n",
      "=================================================================\n",
      "Total params: 6,141\n",
      "Trainable params: 6,141\n",
      "Non-trainable params: 0\n",
      "_________________________________________________________________\n"
     ]
    }
   ],
   "source": [
    "nn = tf.keras.models.Sequential()\n",
    "\n",
    "# First hidden layer\n",
    "nn.add(tf.keras.layers.Dense(units=80, activation=\"relu\", input_dim=45))\n",
    "# Second hidden layer\n",
    "nn.add(tf.keras.layers.Dense(units=30, activation=\"relu\", input_dim=45))\n",
    "\n",
    "\n",
    "# Output layer\n",
    "nn.add(tf.keras.layers.Dense(units=1, activation=\"sigmoid\"))\n",
    "# Check the structure of the model\n",
    "nn.summary()"
   ]
  },
  {
   "cell_type": "code",
   "execution_count": 32,
   "id": "a18eec6a",
   "metadata": {},
   "outputs": [],
   "source": [
    "nn.compile(loss=\"binary_crossentropy\", optimizer=\"adam\", metrics=[\"accuracy\"])"
   ]
  },
  {
   "cell_type": "code",
   "execution_count": 33,
   "id": "48e15a8b",
   "metadata": {},
   "outputs": [
    {
     "name": "stdout",
     "output_type": "stream",
     "text": [
      "Epoch 1/10\n",
      "11/11 [==============================] - 2s 4ms/step - loss: nan - accuracy: 0.8318\n",
      "Epoch 2/10\n",
      "11/11 [==============================] - 0s 4ms/step - loss: nan - accuracy: 0.9429\n",
      "Epoch 3/10\n",
      "11/11 [==============================] - 0s 4ms/step - loss: nan - accuracy: 0.9429\n",
      "Epoch 4/10\n",
      "11/11 [==============================] - 0s 5ms/step - loss: nan - accuracy: 0.9429\n",
      "Epoch 5/10\n",
      "11/11 [==============================] - 0s 5ms/step - loss: nan - accuracy: 0.9429\n",
      "Epoch 6/10\n",
      "11/11 [==============================] - 0s 4ms/step - loss: nan - accuracy: 0.9429\n",
      "Epoch 7/10\n",
      "11/11 [==============================] - 0s 4ms/step - loss: nan - accuracy: 0.9429\n",
      "Epoch 8/10\n",
      "11/11 [==============================] - 0s 5ms/step - loss: nan - accuracy: 0.9429\n",
      "Epoch 9/10\n",
      "11/11 [==============================] - 0s 5ms/step - loss: nan - accuracy: 0.9429\n",
      "Epoch 10/10\n",
      "11/11 [==============================] - 0s 4ms/step - loss: nan - accuracy: 0.9429\n"
     ]
    }
   ],
   "source": [
    "fit_model = nn.fit(X_train_scaled, y_train, epochs=10)"
   ]
  },
  {
   "cell_type": "code",
   "execution_count": 35,
   "id": "42e055bd",
   "metadata": {},
   "outputs": [
    {
     "name": "stdout",
     "output_type": "stream",
     "text": [
      "4/4 - 0s - loss: nan - accuracy: 0.9018 - 327ms/epoch - 82ms/step\n",
      "Loss: nan, Accuracy: 0.9017857313156128\n"
     ]
    }
   ],
   "source": [
    "model_loss, model_accuracy = nn.evaluate(X_test_scaled,y_test,verbose=2)\n",
    "print(f\"Loss: {model_loss}, Accuracy: {model_accuracy}\")"
   ]
  },
  {
   "cell_type": "code",
   "execution_count": 36,
   "id": "3f9b0cf6",
   "metadata": {},
   "outputs": [
    {
     "data": {
      "text/plain": [
       "<Axes: >"
      ]
     },
     "execution_count": 36,
     "metadata": {},
     "output_type": "execute_result"
    },
    {
     "data": {
      "image/png": "[encoded data removed]",
      "text/plain": [
       "<Figure size 640x480 with 1 Axes>"
      ]
     },
     "metadata": {},
     "output_type": "display_data"
    }
   ],
   "source": [
    "# Create a DataFrame containing training history\n",
    "history_df = pd.DataFrame(fit_model.history, index=range(1,len(fit_model.history[\"loss\"])+1))\n",
    "\n",
    "# Plot the loss\n",
    "history_df.plot(y=\"loss\")"
   ]
  },
  {
   "cell_type": "code",
   "execution_count": 37,
   "id": "369aa701",
   "metadata": {},
   "outputs": [
    {
     "data": {
      "text/plain": [
       "<Axes: >"
      ]
     },
     "execution_count": 37,
     "metadata": {},
     "output_type": "execute_result"
    },
    {
     "data": {
      "image/png": "[encoded data removed]",
      "text/plain": [
       "<Figure size 640x480 with 1 Axes>"
      ]
     },
     "metadata": {},
     "output_type": "display_data"
    }
   ],
   "source": [
    "# Plot the accuracy\n",
    "history_df.plot(y=\"accuracy\")"
   ]
  },
  {
   "cell_type": "code",
   "execution_count": 28,
   "id": "674600ac",
   "metadata": {},
   "outputs": [],
   "source": [
    "# Export our model to HDF5 file\n",
    "nn.save(\"trained_model.h5\")"
   ]
  },
  {
   "cell_type": "code",
   "execution_count": 49,
   "id": "4240f568",
   "metadata": {},
   "outputs": [
    {
     "name": "stdout",
     "output_type": "stream",
     "text": [
      "4/4 [==============================] - 0s 4ms/step\n"
     ]
    },
    {
     "data": {
      "text/html": [
       "<div>\n",
       "<style scoped>\n",
       "    .dataframe tbody tr th:only-of-type {\n",
       "        vertical-align: middle;\n",
       "    }\n",
       "\n",
       "    .dataframe tbody tr th {\n",
       "        vertical-align: top;\n",
       "    }\n",
       "\n",
       "    .dataframe thead th {\n",
       "        text-align: right;\n",
       "    }\n",
       "</style>\n",
       "<table border=\"1\" class=\"dataframe\">\n",
       "  <thead>\n",
       "    <tr style=\"text-align: right;\">\n",
       "      <th></th>\n",
       "      <th>Prediction</th>\n",
       "      <th>Actual</th>\n",
       "    </tr>\n",
       "  </thead>\n",
       "  <tbody>\n",
       "    <tr>\n",
       "      <th>91</th>\n",
       "      <td>0</td>\n",
       "      <td>0.0</td>\n",
       "    </tr>\n",
       "    <tr>\n",
       "      <th>398</th>\n",
       "      <td>0</td>\n",
       "      <td>0.0</td>\n",
       "    </tr>\n",
       "    <tr>\n",
       "      <th>141</th>\n",
       "      <td>0</td>\n",
       "      <td>0.0</td>\n",
       "    </tr>\n",
       "    <tr>\n",
       "      <th>439</th>\n",
       "      <td>0</td>\n",
       "      <td>0.0</td>\n",
       "    </tr>\n",
       "    <tr>\n",
       "      <th>257</th>\n",
       "      <td>0</td>\n",
       "      <td>1.0</td>\n",
       "    </tr>\n",
       "    <tr>\n",
       "      <th>...</th>\n",
       "      <td>...</td>\n",
       "      <td>...</td>\n",
       "    </tr>\n",
       "    <tr>\n",
       "      <th>311</th>\n",
       "      <td>0</td>\n",
       "      <td>0.0</td>\n",
       "    </tr>\n",
       "    <tr>\n",
       "      <th>71</th>\n",
       "      <td>0</td>\n",
       "      <td>0.0</td>\n",
       "    </tr>\n",
       "    <tr>\n",
       "      <th>195</th>\n",
       "      <td>0</td>\n",
       "      <td>0.0</td>\n",
       "    </tr>\n",
       "    <tr>\n",
       "      <th>347</th>\n",
       "      <td>0</td>\n",
       "      <td>0.0</td>\n",
       "    </tr>\n",
       "    <tr>\n",
       "      <th>357</th>\n",
       "      <td>0</td>\n",
       "      <td>0.0</td>\n",
       "    </tr>\n",
       "  </tbody>\n",
       "</table>\n",
       "<p>112 rows × 2 columns</p>\n",
       "</div>"
      ],
      "text/plain": [
       "     Prediction  Actual\n",
       "91            0     0.0\n",
       "398           0     0.0\n",
       "141           0     0.0\n",
       "439           0     0.0\n",
       "257           0     1.0\n",
       "..          ...     ...\n",
       "311           0     0.0\n",
       "71            0     0.0\n",
       "195           0     0.0\n",
       "347           0     0.0\n",
       "357           0     0.0\n",
       "\n",
       "[112 rows x 2 columns]"
      ]
     },
     "execution_count": 49,
     "metadata": {},
     "output_type": "execute_result"
    }
   ],
   "source": [
    "# Predict the classification of a new set of blob data\n",
    "new_X, new_Y = X_test, y_test\n",
    "new_X_scaled = X_scaler.transform(new_X)\n",
    "predictions = (nn.predict(new_X_scaled) > 0.5).astype(\"int32\")\n",
    "\n",
    "pd.DataFrame({\"Prediction\": predictions[:,0], \"Actual\": y_test})"
   ]
  }
 ],
 "metadata": {
  "kernelspec": {
   "display_name": "mlenv",
   "language": "python",
   "name": "mlenv"
  },
  "language_info": {
   "codemirror_mode": {
    "name": "ipython",
    "version": 3
   },
   "file_extension": ".py",
   "mimetype": "text/x-python",
   "name": "python",
   "nbconvert_exporter": "python",
   "pygments_lexer": "ipython3",
   "version": "3.9.13"
  }
 },
 "nbformat": 4,
 "nbformat_minor": 5
}
